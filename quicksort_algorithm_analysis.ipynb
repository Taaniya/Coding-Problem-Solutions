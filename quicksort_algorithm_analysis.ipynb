{
  "nbformat": 4,
  "nbformat_minor": 0,
  "metadata": {
    "colab": {
      "name": "quicksort_algorithm_analysis.ipynb",
      "provenance": [],
      "collapsed_sections": [],
      "authorship_tag": "ABX9TyOA9GnaUADGGTPYqBux16qJ",
      "include_colab_link": true
    },
    "kernelspec": {
      "name": "python3",
      "display_name": "Python 3"
    },
    "language_info": {
      "name": "python"
    }
  },
  "cells": [
    {
      "cell_type": "markdown",
      "metadata": {
        "id": "view-in-github",
        "colab_type": "text"
      },
      "source": [
        "<a href=\"https://colab.research.google.com/github/Taaniya/Coding-Problem-Solutions-for-data-science-ML/blob/master/quicksort_algorithm_analysis.ipynb\" target=\"_parent\"><img src=\"https://colab.research.google.com/assets/colab-badge.svg\" alt=\"Open In Colab\"/></a>"
      ]
    },
    {
      "cell_type": "code",
      "source": [
        "#! /user/bin/env python\n",
        "\n",
        "\"\"\"\n",
        "This code is solution for quick sort algorithm using normal partitioning technique \n",
        "to choose pivot as well as randomized technique, in order to obtain good average-case \n",
        "performance over all inputs.\n",
        "\n",
        "For results of analysis of its performance with & without randomized version, check\n",
        "out the quick sort analysis notebook in this repository.\n",
        "\"\"\"\n",
        "\n",
        "import copy\n",
        "import random \n",
        "\n",
        "def partition(a, first, last, randomize):\n",
        "  # Returns index with which to partition. O(n)\n",
        "  if randomize:    \n",
        "    r_index = random.randint(first, last)\n",
        "    a[r_index], a[last] = swap(a[r_index], a[last])\n",
        "\n",
        "  pivot = copy.deepcopy(a[last])  \n",
        "  i = first - 1\n",
        "  for j in range(first, last):\n",
        "    if a[j] <= pivot:\n",
        "      i += 1\n",
        "      a[i], a[j] = swap(a[i], a[j])\n",
        "  a[i+1], a[last] = swap(a[i+1], a[last])\n",
        "  return i + 1\n",
        "\n",
        "def quicksort(a, first, last, randomize=True):\n",
        "  \"\"\"\n",
        "  E.g., \n",
        "    >> arr = [3, 2, 9, 8 , 1, 7, 5]\n",
        "    >> quicksort(arr, 0, len(arr)-1, randomize=True)\n",
        "    >> arr\n",
        "    >> [1, 2, 3, 5, 7, 8, 9]\n",
        "  \"\"\"  \n",
        "  if first < last:       \n",
        "    q = partition(a, first, last, randomize)              \n",
        "    quicksort(a, first, q-1)\n",
        "    quicksort(a, q+1, last)\n",
        "  return\n",
        "\n",
        "def swap(a, b):\n",
        "  return b, a"
      ],
      "metadata": {
        "id": "HPLXQoNNJXRH"
      },
      "execution_count": 136,
      "outputs": []
    },
    {
      "cell_type": "markdown",
      "source": [
        "Analysing on large input"
      ],
      "metadata": {
        "id": "DJ01XP95WB3j"
      }
    },
    {
      "cell_type": "code",
      "source": [
        "L = [random.random() for i in range(100000)]"
      ],
      "metadata": {
        "id": "DLeptkXA38Cs"
      },
      "execution_count": 146,
      "outputs": []
    },
    {
      "cell_type": "code",
      "source": [
        "len(L)"
      ],
      "metadata": {
        "colab": {
          "base_uri": "https://localhost:8080/"
        },
        "id": "3PqAe0Jq38x0",
        "outputId": "ed57abbe-d354-4a07-c303-306a7e62175e"
      },
      "execution_count": 94,
      "outputs": [
        {
          "output_type": "execute_result",
          "data": {
            "text/plain": [
              "10000000"
            ]
          },
          "metadata": {},
          "execution_count": 94
        }
      ]
    },
    {
      "cell_type": "code",
      "source": [
        "frozen_list_a = copy.deepcopy(L)\n",
        "frozen_list_b = copy.deepcopy(frozen_list_a)\n",
        "\n",
        "print(f\" first 10 unsorted elements {frozen_list_a[:10]}\")\n",
        "%time quicksort(frozen_list_a, 0, len(frozen_list_a)-1, randomize=False)"
      ],
      "metadata": {
        "colab": {
          "base_uri": "https://localhost:8080/"
        },
        "id": "AqXvfqmUHXI9",
        "outputId": "bb3d9290-22d9-4d87-89b2-6b7fa3e221cf"
      },
      "execution_count": 132,
      "outputs": [
        {
          "output_type": "stream",
          "name": "stdout",
          "text": [
            " first 10 unsorted elements [1.8154471415066098e-07, 1.1405026936195384e-05, 1.3461108995804771e-05, 1.4317737666469377e-05, 4.0073982565114186e-05, 5.955073516239473e-05, 6.60343227161242e-05, 8.26412312467939e-05, 0.00010294446171077443, 0.00010597016286961747]\n",
            "CPU times: user 782 ms, sys: 1 ms, total: 783 ms\n",
            "Wall time: 784 ms\n"
          ]
        }
      ]
    },
    {
      "cell_type": "code",
      "source": [
        "# Sorting an already sorted list to takes more time with quicksort\n",
        "\n",
        "print(f\" first 10 sorted elements {frozen_list_a[:10]}\")\n",
        "%time quicksort(frozen_list_a, 0, len(frozen_list_a)-1, randomize=False)"
      ],
      "metadata": {
        "colab": {
          "base_uri": "https://localhost:8080/"
        },
        "id": "97NeDeLoHec7",
        "outputId": "53c80296-a63d-4848-a492-1a82f9281b19"
      },
      "execution_count": 133,
      "outputs": [
        {
          "output_type": "stream",
          "name": "stdout",
          "text": [
            " first 10 sorted elements [1.8154471415066098e-07, 1.1405026936195384e-05, 1.3461108995804771e-05, 1.4317737666469377e-05, 4.0073982565114186e-05, 5.955073516239473e-05, 6.60343227161242e-05, 8.26412312467939e-05, 0.00010294446171077443, 0.00010597016286961747]\n",
            "CPU times: user 807 ms, sys: 1.96 ms, total: 809 ms\n",
            "Wall time: 812 ms\n"
          ]
        }
      ]
    },
    {
      "cell_type": "markdown",
      "source": [
        "After using randomized partitioning, the time taken to sort an already sorted list is 762ms , which is much less than the it took previously (812ms)"
      ],
      "metadata": {
        "id": "f-rim_BoQBqM"
      }
    },
    {
      "cell_type": "code",
      "source": [
        "print(f\" first 10 unsorted elements {frozen_list_b[:10]}\")\n",
        "%time quicksort(frozen_list_b, 0, len(frozen_list_b)-1, randomize=True)"
      ],
      "metadata": {
        "colab": {
          "base_uri": "https://localhost:8080/"
        },
        "id": "BBD5QtdwP2iW",
        "outputId": "0e3170a0-bc6d-4582-ea3a-6f304ee210f6"
      },
      "execution_count": 134,
      "outputs": [
        {
          "output_type": "stream",
          "name": "stdout",
          "text": [
            " first 10 unsorted elements [1.8154471415066098e-07, 1.1405026936195384e-05, 1.3461108995804771e-05, 1.4317737666469377e-05, 4.0073982565114186e-05, 5.955073516239473e-05, 6.60343227161242e-05, 8.26412312467939e-05, 0.00010294446171077443, 0.00010597016286961747]\n",
            "CPU times: user 750 ms, sys: 1.1 ms, total: 751 ms\n",
            "Wall time: 753 ms\n"
          ]
        }
      ]
    },
    {
      "cell_type": "code",
      "source": [
        "print(f\" first 10 sorted elements {frozen_list_b[:10]}\")\n",
        "%time quicksort(frozen_list_b, 0, len(frozen_list_b)-1, randomize=True)"
      ],
      "metadata": {
        "colab": {
          "base_uri": "https://localhost:8080/"
        },
        "id": "gznV2FDqP2dF",
        "outputId": "5bb09e5c-55c7-48b2-f677-2c9694d847ec"
      },
      "execution_count": 135,
      "outputs": [
        {
          "output_type": "stream",
          "name": "stdout",
          "text": [
            " first 10 unsorted elements [1.8154471415066098e-07, 1.1405026936195384e-05, 1.3461108995804771e-05, 1.4317737666469377e-05, 4.0073982565114186e-05, 5.955073516239473e-05, 6.60343227161242e-05, 8.26412312467939e-05, 0.00010294446171077443, 0.00010597016286961747]\n",
            "CPU times: user 751 ms, sys: 964 µs, total: 752 ms\n",
            "Wall time: 762 ms\n"
          ]
        }
      ]
    }
  ]
}